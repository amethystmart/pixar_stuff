{
 "cells": [
  {
   "cell_type": "code",
   "execution_count": 2,
   "id": "e5aab950-5b6a-4a32-a314-62015bf7beb3",
   "metadata": {},
   "outputs": [],
   "source": [
    "import pandas as pd\n",
    "box_office_df = pd.read_csv('box_office.csv')\n",
    "awards_df = pd.read_csv('pixar_awards.csv')"
   ]
  },
  {
   "cell_type": "code",
   "execution_count": 3,
   "id": "ddbceb16-423b-4bf1-93b1-f788c5e26a29",
   "metadata": {},
   "outputs": [],
   "source": [
    "nominations_count = awards_df['film'].value_counts().reset_index()\n",
    "nominations_count.columns = ['film', 'total_nominations']"
   ]
  },
  {
   "cell_type": "code",
   "execution_count": 4,
   "id": "039b1111-994f-43fe-896c-31b59dc206f5",
   "metadata": {},
   "outputs": [],
   "source": [
    "wins_df = awards_df[awards_df['status'] == 'Won']\n",
    "wins_count = wins_df['film'].value_counts().reset_index()\n",
    "wins_count.columns = ['film', 'total_wins']"
   ]
  },
  {
   "cell_type": "code",
   "execution_count": 5,
   "id": "ad36cef9-75fa-4829-a831-718abc298ca3",
   "metadata": {},
   "outputs": [],
   "source": [
    "result = pd.merge(box_office_df[['film', 'box_office_worldwide']], nominations_count, on='film', how='left')\n",
    "result = pd.merge(result, wins_count, on='film', how='left')"
   ]
  },
  {
   "cell_type": "code",
   "execution_count": 6,
   "id": "f04073e3-4386-4087-a428-50efcab7ae90",
   "metadata": {},
   "outputs": [],
   "source": [
    "result = result.fillna(0)\n",
    "result['total_nominations'] = result['total_nominations'].astype(int)\n",
    "result['total_wins'] = result['total_wins'].astype(int)"
   ]
  },
  {
   "cell_type": "code",
   "execution_count": 7,
   "id": "ab4a3ecd-fbe7-45d2-a913-2a421965d828",
   "metadata": {},
   "outputs": [],
   "source": [
    "result.to_csv('pixar_data.csv', index=False)"
   ]
  },
  {
   "cell_type": "code",
   "execution_count": null,
   "id": "bcb17530-998c-4f3b-9236-d4376b586f89",
   "metadata": {},
   "outputs": [],
   "source": []
  }
 ],
 "metadata": {
  "kernelspec": {
   "display_name": "Python 3 (ipykernel)",
   "language": "python",
   "name": "python3"
  },
  "language_info": {
   "codemirror_mode": {
    "name": "ipython",
    "version": 3
   },
   "file_extension": ".py",
   "mimetype": "text/x-python",
   "name": "python",
   "nbconvert_exporter": "python",
   "pygments_lexer": "ipython3",
   "version": "3.11.8"
  }
 },
 "nbformat": 4,
 "nbformat_minor": 5
}
